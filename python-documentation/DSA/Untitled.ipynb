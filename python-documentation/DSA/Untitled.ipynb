{
 "cells": [
  {
   "cell_type": "markdown",
   "id": "5f514a7a",
   "metadata": {},
   "source": [
    "Contents:\n",
    "1. Lists in python(creating and adding elements)\n",
    "    1.1 Declaring empty list\n",
    "    1.2 User input list with exception handling\n",
    "    1.3 Inserting element in list at particular index:"
   ]
  },
  {
   "cell_type": "code",
   "execution_count": 1,
   "id": "6ad4a84c",
   "metadata": {},
   "outputs": [
    {
     "name": "stdout",
     "output_type": "stream",
     "text": [
      "[1, 2, 34]\n"
     ]
    }
   ],
   "source": [
    "list1 = [1,2,34]\n",
    "print(list1)"
   ]
  },
  {
   "cell_type": "code",
   "execution_count": 3,
   "id": "71d8bfc3",
   "metadata": {},
   "outputs": [
    {
     "name": "stdout",
     "output_type": "stream",
     "text": [
      "[1, 2, 3]\n"
     ]
    }
   ],
   "source": [
    "list2 = [] #1.1Declaring empty list\n",
    "\n",
    "list2.append(1)\n",
    "list2.append(2)\n",
    "list2.append(3)\n",
    "\n",
    "print(list2)\n"
   ]
  },
  {
   "cell_type": "code",
   "execution_count": 8,
   "id": "6fbecf9c",
   "metadata": {},
   "outputs": [
    {
     "name": "stdout",
     "output_type": "stream",
     "text": [
      "Enter the elemensts of list (space separated): 1 w q 2 3 4\n",
      "invalid literal for int() with base 10: 'w'  You may have entered values other than integers, try again\n"
     ]
    }
   ],
   "source": [
    "#1.2 User input list with exception handling \n",
    "\n",
    "try:\n",
    "    list3 = list(map(int, input(\"Enter the elemensts of list (space separated): \").split()))\n",
    "    print(list3)\n",
    "except Exception as e:\n",
    "    print(e, \" You may have entered values other than integers, try again\")\n",
    "\n"
   ]
  },
  {
   "cell_type": "code",
   "execution_count": 25,
   "id": "67a3ff35",
   "metadata": {},
   "outputs": [],
   "source": [
    "#1.3 Inserting element in list at particular index:\n",
    "list4 = [1,2,3]\n",
    "list4.insert(5, 4)"
   ]
  },
  {
   "cell_type": "markdown",
   "id": "7d20cc3e",
   "metadata": {},
   "source": [
    "Try with this beautiful function insert()\n",
    "if you mention index which is greater than or equal to the length of list, the element is added to last\n",
    "if you try mentioning to access element via index where index >= len(list), it will raise error"
   ]
  },
  {
   "cell_type": "code",
   "execution_count": 29,
   "id": "82b615ac",
   "metadata": {},
   "outputs": [],
   "source": [
    "list4.insert(1,5)"
   ]
  },
  {
   "cell_type": "code",
   "execution_count": null,
   "id": "fabe1136",
   "metadata": {},
   "outputs": [],
   "source": []
  }
 ],
 "metadata": {
  "kernelspec": {
   "display_name": "Python 3 (ipykernel)",
   "language": "python",
   "name": "python3"
  },
  "language_info": {
   "codemirror_mode": {
    "name": "ipython",
    "version": 3
   },
   "file_extension": ".py",
   "mimetype": "text/x-python",
   "name": "python",
   "nbconvert_exporter": "python",
   "pygments_lexer": "ipython3",
   "version": "3.9.13"
  }
 },
 "nbformat": 4,
 "nbformat_minor": 5
}
