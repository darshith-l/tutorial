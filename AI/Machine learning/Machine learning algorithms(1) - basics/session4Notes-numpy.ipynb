{
 "cells": [
  {
   "cell_type": "code",
   "execution_count": 4,
   "id": "e7e274b7",
   "metadata": {},
   "outputs": [
    {
     "name": "stdout",
     "output_type": "stream",
     "text": [
      "(5,)\n",
      "(2, 3)\n",
      "[1 2 3 4 5]\n",
      "[[1 2 3]\n",
      " [4 5 6]]\n"
     ]
    }
   ],
   "source": [
    "#Numpy and pandas tutorial\n",
    "\n",
    "import numpy as np\n",
    "\n",
    "a= np.array([1,2,3,4,5])\n",
    "b=np.array([[1,2,3],[4,5,6]])\n",
    "print(a.shape) # to see dimention of saay shape is used\n",
    "print(b.shape)\n",
    "\n",
    "print(a)\n",
    "print(b)"
   ]
  },
  {
   "cell_type": "code",
   "execution_count": 5,
   "id": "10c7f6e8",
   "metadata": {},
   "outputs": [
    {
     "name": "stdout",
     "output_type": "stream",
     "text": [
      "1\n"
     ]
    }
   ],
   "source": [
    "print(b[0,0]) #accessing first element of array"
   ]
  },
  {
   "cell_type": "code",
   "execution_count": 9,
   "id": "ea346580",
   "metadata": {},
   "outputs": [
    {
     "name": "stdout",
     "output_type": "stream",
     "text": [
      "27\n"
     ]
    }
   ],
   "source": [
    "#Create 2d array and find the sum of all element\n",
    "b=np.array([[3,8,1],[7,3,5]])\n",
    "s=0\n",
    "for x in b:\n",
    "    for y in x:\n",
    "        s+=y\n",
    "        \n",
    "print(s)"
   ]
  },
  {
   "cell_type": "code",
   "execution_count": 14,
   "id": "56110852",
   "metadata": {},
   "outputs": [
    {
     "name": "stdout",
     "output_type": "stream",
     "text": [
      "Sum of  1 th row is:  6\n",
      "Sum of  2 th row is:  15\n",
      "Sum of  3 th row is:  24\n",
      "Sum of  1 th column is:  12\n",
      "Sum of  2 th column is:  15\n",
      "Sum of  3 th column is:  18\n",
      "\n",
      "\n",
      "Sum of  1 th row is:  3\n",
      "Sum of  2 th row is:  7\n",
      "Sum of  3 th row is:  11\n",
      "Sum of  1 th column is:  9\n",
      "Sum of  2 th column is:  12\n"
     ]
    }
   ],
   "source": [
    "#to find sum of each row and column\n",
    "\n",
    "b=np.array([[1,2,3],[4,5,6],[7,8,9]])\n",
    "\n",
    "r,c=b.shape\n",
    "\n",
    "for i in range (0,r): # sum of rows\n",
    "    rsum=0\n",
    "    for j in range(0,c):\n",
    "       rsum+=b[i,j]\n",
    "    print(\"Sum of \",i+1,\"th row is: \",rsum)\n",
    "    \n",
    "\n",
    "for i in range (0,r): #sum of columns\n",
    "    rsum=0\n",
    "    for j in range (0,c):\n",
    "        rsum+=b[j,i]\n",
    "    print(\"Sum of \",i+1,\"th column is: \",rsum)\n",
    "    \n",
    "\n",
    "print()\n",
    "print()\n",
    "\n",
    "b=np.array([[1,2],[3,4],[5,6]])\n",
    "\n",
    "r,c=b.shape\n",
    "\n",
    "for i in range (0,r): # sum of rows\n",
    "    rsum=0\n",
    "    for j in range(0,c):\n",
    "       rsum+=b[i,j]\n",
    "    print(\"Sum of \",i+1,\"th row is: \",rsum)\n",
    "    \n",
    "\n",
    "for i in range (0,c): #sum of columns\n",
    "    rsum=0\n",
    "    for j in range (0,r):\n",
    "        rsum+=b[j,i]\n",
    "    print(\"Sum of \",i+1,\"th column is: \",rsum)"
   ]
  },
  {
   "cell_type": "code",
   "execution_count": 23,
   "id": "50a29fb2",
   "metadata": {},
   "outputs": [
    {
     "name": "stdout",
     "output_type": "stream",
     "text": [
      "21\n",
      "[ 6 15]\n",
      "[5 7 9]\n"
     ]
    }
   ],
   "source": [
    "# using sum function printing sum,sum of rows,sum of column\n",
    "\n",
    "b=np.array([[1,2,3],[4,5,6]])\n",
    "sum=np.sum(b)\n",
    "rsum=np.sum(b,axis=1)   #to get row sum\n",
    "csum=np.sum(b,axis=0)   #to get column sum\n",
    "print(sum)\n",
    "print(rsum)\n",
    "print(csum)"
   ]
  },
  {
   "cell_type": "code",
   "execution_count": 19,
   "id": "08074fc0",
   "metadata": {},
   "outputs": [
    {
     "name": "stdout",
     "output_type": "stream",
     "text": [
      "[[ 8 10 12]\n",
      " [14 16 18]]\n",
      "[[6 6 6]\n",
      " [6 6 6]]\n"
     ]
    }
   ],
   "source": [
    "#methods to add substract multiply divide, sum std average\n",
    "\n",
    "b1=np.array([[1,2,3],[4,5,6]])\n",
    "b2=np.array([[7,8,9],[10,11,12]])\n",
    "\n",
    "b3=np.add(b1,b2)   #for adding\n",
    "print(b3)\n",
    "\n",
    "b3=np.subtract(b2,b1)   #for subtracting\n",
    "print(b3)"
   ]
  },
  {
   "cell_type": "code",
   "execution_count": 28,
   "id": "63e1ae49",
   "metadata": {},
   "outputs": [
    {
     "name": "stdout",
     "output_type": "stream",
     "text": [
      "8\n"
     ]
    }
   ],
   "source": [
    "#to find number of all the zero in array (sparse matrix)\n",
    "\n",
    "b=np.array([[1,2,3,0,0],[0,0,4,5,6],[0,0,0,1,1],[2,3,4,5,0]])\n",
    "\n",
    "count=0\n",
    "\n",
    "for x in b:\n",
    "    for y in x:\n",
    "        if(y==0):\n",
    "            count+=1  #increment operator is not suported in python\n",
    "            \n",
    "print(count)"
   ]
  },
  {
   "cell_type": "code",
   "execution_count": null,
   "id": "36a065c2",
   "metadata": {},
   "outputs": [],
   "source": []
  },
  {
   "cell_type": "code",
   "execution_count": null,
   "id": "e6f28e7b",
   "metadata": {},
   "outputs": [],
   "source": []
  }
 ],
 "metadata": {
  "kernelspec": {
   "display_name": "Python 3 (ipykernel)",
   "language": "python",
   "name": "python3"
  },
  "language_info": {
   "codemirror_mode": {
    "name": "ipython",
    "version": 3
   },
   "file_extension": ".py",
   "mimetype": "text/x-python",
   "name": "python",
   "nbconvert_exporter": "python",
   "pygments_lexer": "ipython3",
   "version": "3.9.13"
  }
 },
 "nbformat": 4,
 "nbformat_minor": 5
}
