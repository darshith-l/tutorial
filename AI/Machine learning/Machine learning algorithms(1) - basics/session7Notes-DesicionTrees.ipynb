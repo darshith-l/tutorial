{
 "cells": [
  {
   "cell_type": "code",
   "execution_count": 2,
   "id": "b8c6417e",
   "metadata": {},
   "outputs": [],
   "source": [
    "#Decision tree algorithm:\n",
    "#There are various dt algorithm C4.5,ID3,CARD\n",
    "\n",
    "#Building decision tree:"
   ]
  },
  {
   "cell_type": "code",
   "execution_count": 14,
   "id": "30fd7400",
   "metadata": {},
   "outputs": [],
   "source": [
    "import pandas as pd\n",
    "from sklearn import tree\n",
    "from sklearn.model_selection import train_test_split\n",
    "from sklearn.datasets import load_iris"
   ]
  },
  {
   "cell_type": "code",
   "execution_count": 36,
   "id": "8c50f32d",
   "metadata": {},
   "outputs": [
    {
     "name": "stdout",
     "output_type": "stream",
     "text": [
      "[0]\n",
      "['setosa']\n"
     ]
    }
   ],
   "source": [
    "#features = sepal length, sepal width, petal length, petal width, class(setosa/virgina/versicolor)\n",
    "\n",
    "#1 prepare data X,Y\n",
    "iris= load_iris()\n",
    "X= iris.data\n",
    "Y= iris.target\n",
    "\n",
    "#2 partision\n",
    "x_train,x_test,y_train,y_test = train_test_split(X,Y,test_size=0.3,random_state=1)\n",
    "\n",
    "\n",
    "#3 building model\n",
    "Dmodel=tree.DecisionTreeClassifier()         #creating decision tree\n",
    "Dclf=Dmodel.fit(x_train,y_train)             #fitting the training data\n",
    "\n",
    "#4 testing model\n",
    "print(Dclf.predict([[5,1,2,3]]))\n",
    "print(iris.target_names[Dclf.predict([[5,1,2,3]])])"
   ]
  }
 ],
 "metadata": {
  "kernelspec": {
   "display_name": "Python 3 (ipykernel)",
   "language": "python",
   "name": "python3"
  },
  "language_info": {
   "codemirror_mode": {
    "name": "ipython",
    "version": 3
   },
   "file_extension": ".py",
   "mimetype": "text/x-python",
   "name": "python",
   "nbconvert_exporter": "python",
   "pygments_lexer": "ipython3",
   "version": "3.9.13"
  }
 },
 "nbformat": 4,
 "nbformat_minor": 5
}
