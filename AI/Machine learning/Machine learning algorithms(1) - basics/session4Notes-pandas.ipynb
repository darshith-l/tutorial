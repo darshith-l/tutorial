{
 "cells": [
  {
   "cell_type": "code",
   "execution_count": 2,
   "id": "edcf9b5c",
   "metadata": {},
   "outputs": [],
   "source": [
    "#pandas tutorial\n",
    "#pandas it is data analisys package\n",
    "#the data types used in pandas are series object, data frame object, panel kobject"
   ]
  },
  {
   "cell_type": "code",
   "execution_count": 7,
   "id": "089358d4",
   "metadata": {},
   "outputs": [
    {
     "name": "stdout",
     "output_type": "stream",
     "text": [
      "0    10\n",
      "1    20\n",
      "2    30\n",
      "dtype: int64\n"
     ]
    }
   ],
   "source": [
    "#creating series object\n",
    "\n",
    "import pandas as pd\n",
    "s=pd.Series([10,20,30])  #index values is automatically generated from 0 if not specified\n",
    "print(s)\n",
    "s=pd.Series([10,20,30]) #for creating index"
   ]
  },
  {
   "cell_type": "code",
   "execution_count": 23,
   "id": "bb4a9d84",
   "metadata": {},
   "outputs": [
    {
     "name": "stdout",
     "output_type": "stream",
     "text": [
      "  name  age\n",
      "0    a   10\n",
      "1    b   20\n",
      "   mmk  sss\n",
      "0   20   34\n"
     ]
    }
   ],
   "source": [
    "d= pd.DataFrame([['a', 10],['b',20]],columns=['name','age'])\n",
    "print(d)\n",
    "\n",
    "d=pd.DataFrame([{\"mmk\": 20, \"sss\": 34}])  #using dictionary\n",
    "print(d)\n"
   ]
  },
  {
   "cell_type": "code",
   "execution_count": 29,
   "id": "fc2e39ff",
   "metadata": {},
   "outputs": [
    {
     "name": "stdout",
     "output_type": "stream",
     "text": [
      "{'name': ['x', 'y', 'z'], 'age': [10, 20, 30], 'ratings': [4.5, 3.3, 4.0]}\n",
      "  name  age  ratings\n",
      "0    x   10      4.5\n",
      "1    y   20      3.3\n",
      "2    z   30      4.0\n",
      "        age   ratings\n",
      "count   3.0  3.000000\n",
      "mean   20.0  3.933333\n",
      "std    10.0  0.602771\n",
      "min    10.0  3.300000\n",
      "25%    15.0  3.650000\n",
      "50%    20.0  4.000000\n",
      "75%    25.0  4.250000\n",
      "max    30.0  4.500000\n"
     ]
    }
   ],
   "source": [
    "D={\"name\":['x','y','z'],\"age\":[10,20,30],\"ratings\":[4.5,3.3,4.0]}\n",
    "print(D)\n",
    "\n",
    "p=pd.DataFrame(D)\n",
    "print(p)\n",
    "\n",
    "print(p.describe())    #to describe the data"
   ]
  }
 ],
 "metadata": {
  "kernelspec": {
   "display_name": "Python 3 (ipykernel)",
   "language": "python",
   "name": "python3"
  },
  "language_info": {
   "codemirror_mode": {
    "name": "ipython",
    "version": 3
   },
   "file_extension": ".py",
   "mimetype": "text/x-python",
   "name": "python",
   "nbconvert_exporter": "python",
   "pygments_lexer": "ipython3",
   "version": "3.9.13"
  }
 },
 "nbformat": 4,
 "nbformat_minor": 5
}
