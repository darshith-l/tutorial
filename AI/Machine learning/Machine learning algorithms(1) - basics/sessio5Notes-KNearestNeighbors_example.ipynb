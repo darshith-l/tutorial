{
 "cells": [
  {
   "cell_type": "code",
   "execution_count": 8,
   "id": "2e8f3bb5",
   "metadata": {},
   "outputs": [
    {
     "name": "stdout",
     "output_type": "stream",
     "text": [
      "(18, 2)\n",
      "(18,)\n",
      "Accuracy:  1.0\n"
     ]
    },
    {
     "name": "stderr",
     "output_type": "stream",
     "text": [
      "C:\\Users\\WIN10\\anaconda3\\lib\\site-packages\\sklearn\\neighbors\\_classification.py:228: FutureWarning: Unlike other reduction functions (e.g. `skew`, `kurtosis`), the default behavior of `mode` typically preserves the axis it acts along. In SciPy 1.11.0, this behavior will change: the default value of `keepdims` will become False, the `axis` over which the statistic is taken will be eliminated, and the value None will no longer be accepted. Set `keepdims` to True or False to avoid this warning.\n",
      "  mode, _ = stats.mode(_y[neigh_ind, k], axis=1)\n"
     ]
    }
   ],
   "source": [
    "#example for k nearesr neighbours\n",
    "\n",
    "import numpy as np\n",
    "\n",
    "x=np.array([[1,0.3],[1.2,0.4],[1.3,0.2],[1,0.6],[2,0.7],[3,0.3],[2,0.2],[4,1.2],[1,0.2],[2,0.4],[0.02,2],[0.03,3],[0.01,2],[0.05,3],[0.02,3],[0.03,2],[0.03,3],[0.04,3]])\n",
    "y=np.array([0,0,0,0,0,0,0,0,0,1,1,1,1,1,1,1,1,1])\n",
    "print(x.shape)\n",
    "print(y.shape)\n",
    "\n",
    "\n",
    "from sklearn.neighbors import KNeighborsClassifier\n",
    "from sklearn import metrics\n",
    "from sklearn.model_selection import train_test_split\n",
    "\n",
    "\n",
    "x_train,x_test,y_train,y_test = train_test_split(x,y,test_size=0.3,random_state=1)\n",
    "knnc=KNeighborsClassifier(n_neighbors=3)\n",
    "knnc.fit(x_train,y_train)       #Model training\n",
    "s=knnc.predict(x_test)      #prediction\n",
    "accuracy= metrics.accuracy_score(s,y_test)     #s is predicted class\n",
    "print(\"Accuracy: \",accuracy)"
   ]
  }
 ],
 "metadata": {
  "kernelspec": {
   "display_name": "Python 3 (ipykernel)",
   "language": "python",
   "name": "python3"
  },
  "language_info": {
   "codemirror_mode": {
    "name": "ipython",
    "version": 3
   },
   "file_extension": ".py",
   "mimetype": "text/x-python",
   "name": "python",
   "nbconvert_exporter": "python",
   "pygments_lexer": "ipython3",
   "version": "3.9.13"
  }
 },
 "nbformat": 4,
 "nbformat_minor": 5
}
