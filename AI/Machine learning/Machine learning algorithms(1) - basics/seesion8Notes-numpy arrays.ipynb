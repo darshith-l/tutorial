{
 "cells": [
  {
   "cell_type": "code",
   "execution_count": 1,
   "id": "6e72b870",
   "metadata": {},
   "outputs": [],
   "source": [
    "#contents:\n",
    "#Different methods in numpy to create array\n",
    "#converting list,tupple,string to array\n",
    "#arrange function\n",
    "#Array attribute shape,ndimen,itemsize,reshape()\n",
    "#indexing and slicing operation of array"
   ]
  },
  {
   "cell_type": "code",
   "execution_count": 3,
   "id": "20c2f11d",
   "metadata": {},
   "outputs": [
    {
     "name": "stdout",
     "output_type": "stream",
     "text": [
      "[[1 2 3]\n",
      " [4 5 6]]\n",
      "[[1.11260348e-306 1.44635488e-307 9.34609111e-307]\n",
      " [5.11798224e-307 8.90071136e-308 1.42419938e-306]]\n",
      "[[0. 0. 0.]\n",
      " [0. 0. 0.]\n",
      " [0. 0. 0.]]\n",
      "[[1. 1. 1. 1.]\n",
      " [1. 1. 1. 1.]\n",
      " [1. 1. 1. 1.]\n",
      " [1. 1. 1. 1.]]\n"
     ]
    }
   ],
   "source": [
    "#Different methods in numpy to create array\n",
    "\n",
    "import numpy as np\n",
    "\n",
    "A= np.array([[1,2,3],[4,5,6]])     #using function array()\n",
    "B= np.empty([2,3])         #using function empty()\n",
    "C= np.zeros([3,3])         #zeros()\n",
    "D=np.ones([4,4])           #ones()\n",
    "\n",
    "print(A)\n",
    "print(B)\n",
    "print(C)\n",
    "print(D)"
   ]
  },
  {
   "cell_type": "code",
   "execution_count": 6,
   "id": "ed87add9",
   "metadata": {},
   "outputs": [
    {
     "name": "stdout",
     "output_type": "stream",
     "text": [
      "[1 2 3 4]\n",
      "[1 2 3 4]\n",
      "HELLO\n"
     ]
    }
   ],
   "source": [
    "#converting list,tupple,string to array\n",
    "L=[1,2,3,4]\n",
    "T= (1,2,3,4)\n",
    "S= \"HELLO\"\n",
    "\n",
    "A= np.asarray(L)\n",
    "print(A)\n",
    "A= np.asarray(T)\n",
    "print(A)\n",
    "A= np.asarray(S)\n",
    "print(A)"
   ]
  },
  {
   "cell_type": "code",
   "execution_count": 9,
   "id": "b7fbfd93",
   "metadata": {},
   "outputs": [
    {
     "name": "stdout",
     "output_type": "stream",
     "text": [
      "[0 1 2 3 4 5 6 7 8 9]\n"
     ]
    }
   ],
   "source": [
    "#arrange function\n",
    "A=np.arange(10)\n",
    "print(A)"
   ]
  },
  {
   "cell_type": "code",
   "execution_count": 15,
   "id": "58be9dc3",
   "metadata": {},
   "outputs": [
    {
     "name": "stdout",
     "output_type": "stream",
     "text": [
      "(2, 3)\n",
      "2\n",
      "4\n",
      "[[1 2]\n",
      " [3 4]\n",
      " [5 6]]\n"
     ]
    }
   ],
   "source": [
    "A=np.array([[1,2,3],[4,5,6]])\n",
    "print(A.shape)\n",
    "print(A.ndim)\n",
    "print(A.itemsize)\n",
    "print(A.reshape(3,2))"
   ]
  },
  {
   "cell_type": "code",
   "execution_count": 26,
   "id": "15e37bfa",
   "metadata": {},
   "outputs": [
    {
     "name": "stdout",
     "output_type": "stream",
     "text": [
      "6\n"
     ]
    }
   ],
   "source": [
    "B= A[0,:]\n",
    "C= A[1,:]\n",
    "\n",
    "sum=0\n",
    "for i in B:\n",
    "    sum+=i\n",
    "    \n",
    "print(sum)\n"
   ]
  }
 ],
 "metadata": {
  "kernelspec": {
   "display_name": "Python 3 (ipykernel)",
   "language": "python",
   "name": "python3"
  },
  "language_info": {
   "codemirror_mode": {
    "name": "ipython",
    "version": 3
   },
   "file_extension": ".py",
   "mimetype": "text/x-python",
   "name": "python",
   "nbconvert_exporter": "python",
   "pygments_lexer": "ipython3",
   "version": "3.9.13"
  }
 },
 "nbformat": 4,
 "nbformat_minor": 5
}
