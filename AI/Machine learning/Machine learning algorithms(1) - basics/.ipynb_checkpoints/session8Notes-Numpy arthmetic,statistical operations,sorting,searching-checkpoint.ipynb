{
 "cells": [
  {
   "cell_type": "code",
   "execution_count": 6,
   "id": "5698762b",
   "metadata": {
    "scrolled": true
   },
   "outputs": [
    {
     "name": "stdout",
     "output_type": "stream",
     "text": [
      "9\n",
      "5\n",
      "3\n",
      "NUmber of zeros:  2\n",
      "Number of ones:  3\n"
     ]
    }
   ],
   "source": [
    "#assignment\n",
    "\n",
    "import numpy as np\n",
    "\n",
    "matrix= np.array([[1,0,2],[3,4,0],[5,1,1]])\n",
    "row,col= matrix.shape\n",
    "\n",
    "\n",
    "\n",
    "for i in range(0,col):\n",
    "    sum=0\n",
    "    for j in range(0,row):\n",
    "        sum+=matrix[j][i]\n",
    "    print(sum)\n",
    "    \n",
    "nzero=0\n",
    "none=0\n",
    "\n",
    "for i in matrix:\n",
    "    for j in i:\n",
    "        if j==0: nzero+=1 \n",
    "        if j==1: none+=1 \n",
    "        \n",
    "print(\"NUmber of zeros: \",nzero)\n",
    "print(\"Number of ones: \",none)"
   ]
  },
  {
   "cell_type": "code",
   "execution_count": 18,
   "id": "417df23a",
   "metadata": {},
   "outputs": [],
   "source": [
    "#basic operation and statistical operation using numpy\n",
    "#sorting functions, searching function"
   ]
  },
  {
   "cell_type": "code",
   "execution_count": 17,
   "id": "8d20dae3",
   "metadata": {},
   "outputs": [
    {
     "name": "stdout",
     "output_type": "stream",
     "text": [
      "[[12 23 34]\n",
      " [42 53 64]]\n",
      "[[ 8 17 26]\n",
      " [38 47 56]]\n",
      "[[ 20  60 120]\n",
      " [ 80 150 240]]\n",
      "[[ 5.          6.66666667  7.5       ]\n",
      " [20.         16.66666667 15.        ]]\n",
      "[[0 2 2]\n",
      " [0 2 0]]\n",
      "[[     100     8000   810000]\n",
      " [    1600   125000 12960000]]\n"
     ]
    }
   ],
   "source": [
    "#Arthematic operations on numpy array\n",
    "\n",
    "A= np.array([[10,20,30],[40,50,60]])\n",
    "B= np.array([2,3,4])\n",
    "\n",
    "print(np.add(A,B))       #add() function observe the output\n",
    "print(np.subtract(A,B))    #substract() function output\n",
    "print(np.multiply(A,B))    #multiply() function\n",
    "print(np.divide(A,B))    #divide() function\n",
    "print(np.mod(A,B))    #mod() function\n",
    "print(np.power(A,B))   #power()\n",
    "\n",
    "#if element \"4\" is removed, ie when shape is (1,2) we get error\n"
   ]
  },
  {
   "cell_type": "code",
   "execution_count": 25,
   "id": "7acfb28d",
   "metadata": {},
   "outputs": [
    {
     "name": "stdout",
     "output_type": "stream",
     "text": [
      "[11 23 30]\n",
      "[11 41]\n",
      "[41 50 60]\n",
      "[30 60]\n",
      "[26.  36.5 45. ]\n",
      "[26.  36.5 45. ]\n",
      "[225.   182.25 225.  ]\n",
      "[15.  13.5 15. ]\n"
     ]
    }
   ],
   "source": [
    "#statics with numpy\n",
    "\n",
    "A= np.array([[11,23,30],[41,50,60]])\n",
    "print(np.amin(A,0))     #returns minimum value, since axis=0 gives minimum  in column\n",
    "print(np.amin(A,1))     #returns minimum value, since axis=1 gives minimum  in row\n",
    "\n",
    "print(np.amax(A,0))      #returns max value, since axis=0 gives minimum  in column\n",
    "print(np.amax(A,1))     #returns max value, since axis=1 gives minimum  in row\n",
    "\n",
    "print(np.mean(A,0))     #mean()\n",
    "print(np.median(A,0))   #median()\n",
    "print(np.var(A,0))      #var()\n",
    "print(np.std(A,0))      #std()  axis is zero, can be set to 1 to set operation on row"
   ]
  },
  {
   "cell_type": "code",
   "execution_count": 35,
   "id": "2ee22d21",
   "metadata": {},
   "outputs": [
    {
     "name": "stdout",
     "output_type": "stream",
     "text": [
      "There are 4 rows and 4 columns\n",
      "\n",
      "\n",
      "Minimum along column: \n",
      "Minimum element from column  1 is:  1\n",
      "Minimum element from column  2 is:  2\n",
      "Minimum element from column  3 is:  0\n",
      "Minimum element from column  4 is:  1\n",
      "\n",
      "\n",
      "Minimum along row: \n",
      "Minimum element from row  1 is:  1\n",
      "Minimum element from row  2 is:  8\n",
      "Minimum element from row  3 is:  3\n",
      "Minimum element from row  4 is:  0\n",
      "\n",
      "\n",
      "Mean along column: \n",
      "Minimum element from column  1 is:  10.0\n",
      "Minimum element from column  2 is:  11.0\n",
      "Minimum element from column  3 is:  4.0\n",
      "Minimum element from column  4 is:  6.5\n",
      "\n",
      "\n",
      "Median along row: \n",
      "Minimum element from row  1 is:  2.5\n",
      "Minimum element from row  2 is:  9.5\n",
      "Minimum element from row  3 is:  11.0\n",
      "Minimum element from row  4 is:  7.0\n",
      "\n",
      "\n",
      "Variance along column: \n",
      "Minimum element from column  1 is:  37.5\n",
      "Minimum element from column  2 is:  42.5\n",
      "Minimum element from column  3 is:  13.5\n",
      "Minimum element from column  4 is:  32.25\n",
      "\n",
      "\n",
      "Variance along row: \n",
      "Minimum element from row  1 is:  1.25\n",
      "Minimum element from row  2 is:  9.6875\n",
      "Minimum element from row  3 is:  54.1875\n",
      "Minimum element from row  4 is:  42.5\n",
      "\n",
      "\n",
      "Standard deviation along column: \n",
      "Minimum element from column  1 is:  6.123724356957945\n",
      "Minimum element from column  2 is:  6.519202405202649\n",
      "Minimum element from column  3 is:  3.6742346141747673\n",
      "Minimum element from column  4 is:  5.678908345800274\n",
      "\n",
      "\n",
      "Standard deviation along row: \n",
      "Minimum element from row  1 is:  1.118033988749895\n",
      "Minimum element from row  2 is:  3.112474899497183\n",
      "Minimum element from row  3 is:  7.361215932167728\n",
      "Minimum element from row  4 is:  6.519202405202649\n"
     ]
    }
   ],
   "source": [
    "#assignment\n",
    "\n",
    "#create 4x4 matrix and compute statistical values of all row and column\n",
    "\n",
    "A=np.array([[1,2,3,4],[8,9,10,16],[17,20,3,5],[14,13,0,1]])\n",
    "\n",
    "print(\"There are 4 rows and 4 columns\")\n",
    "\n",
    "print(\"\\n\\nMinimum along column: \")\n",
    "temp=np.amin(A,0)\n",
    "for i in range (0,4):\n",
    "    print(\"Minimum element from column \",i+1,\"is: \",temp[i])\n",
    "\n",
    "\n",
    "print(\"\\n\\nMinimum along row: \")\n",
    "temp=np.amin(A,1)\n",
    "for i in range (0,4):\n",
    "    print(\"Minimum element from row \",i+1,\"is: \",temp[i])\n",
    "    \n",
    "print(\"\\n\\nMean along column: \")\n",
    "temp=np.mean(A,0)\n",
    "for i in range (0,4):\n",
    "    print(\"Minimum element from column \",i+1,\"is: \",temp[i])\n",
    "\n",
    "\n",
    "print(\"\\n\\nMedian along row: \")\n",
    "temp=np.median(A,1)\n",
    "for i in range (0,4):\n",
    "    print(\"Minimum element from row \",i+1,\"is: \",temp[i])\n",
    "    \n",
    "print(\"\\n\\nVariance along column: \")\n",
    "temp=np.var(A,0)\n",
    "for i in range (0,4):\n",
    "    print(\"Minimum element from column \",i+1,\"is: \",temp[i])\n",
    "\n",
    "\n",
    "print(\"\\n\\nVariance along row: \")\n",
    "temp=np.var(A,1)\n",
    "for i in range (0,4):\n",
    "    print(\"Minimum element from row \",i+1,\"is: \",temp[i])\n",
    "    \n",
    "print(\"\\n\\nStandard deviation along column: \")\n",
    "temp=np.std(A,0)\n",
    "for i in range (0,4):\n",
    "    print(\"Minimum element from column \",i+1,\"is: \",temp[i])\n",
    "\n",
    "\n",
    "print(\"\\n\\nStandard deviation along row: \")\n",
    "temp=np.std(A,1)\n",
    "for i in range (0,4):\n",
    "    print(\"Minimum element from row \",i+1,\"is: \",temp[i])\n",
    "    \n"
   ]
  },
  {
   "cell_type": "code",
   "execution_count": 44,
   "id": "de0da4ed",
   "metadata": {},
   "outputs": [
    {
     "name": "stdout",
     "output_type": "stream",
     "text": [
      "[[  2   3 200]\n",
      " [ -9  10  20]\n",
      " [  2   7   8]]\n",
      "[[  7   2  -9]\n",
      " [ 10   8   2]\n",
      " [200  20   3]]\n",
      "[['axy']\n",
      " ['bxy']\n",
      " ['zsd']]\n"
     ]
    }
   ],
   "source": [
    "#sorting and searching functions in numpy\n",
    "\n",
    "A=np.array([[200,2,3],[10,20,-9],[7,8,2]])\n",
    "B=np.array([['bxy'],['zsd'],['axy']])\n",
    "print(np.sort(A))       #sort()=> this sorts only along the row ie by default axis=1\n",
    "print(np.sort(A,0))     #sorted along column\n",
    "\n",
    "print(np.sort(B,0))"
   ]
  },
  {
   "cell_type": "code",
   "execution_count": 67,
   "id": "f180037a",
   "metadata": {},
   "outputs": [
    {
     "name": "stdout",
     "output_type": "stream",
     "text": [
      "(array([0, 1, 1, 2, 2], dtype=int64), array([0, 0, 1, 0, 1], dtype=int64))\n",
      "[200  10  20   7   8]\n",
      "[[ 0  1  2  3]\n",
      " [ 4  5  6  7]\n",
      " [ 8  9 10 11]\n",
      " [12 13 14 15]]\n",
      "Elements which are greater than 5 is in X: \n",
      "[ 7  8  9 10 11 12 13 14 15]\n",
      "Sum of elements greater than 5 is:  99\n"
     ]
    }
   ],
   "source": [
    "y=np.where(A>5)    #where function\n",
    "\n",
    "print(y)   #understand the y\n",
    "print(A[y])\n",
    "\n",
    "x= np.arange(0,16).reshape(4,4)\n",
    "print(x)\n",
    "\n",
    "y= np.where(x>6)\n",
    "\n",
    "print(\"Elements which are greater than 5 is in X: \")\n",
    "print(x[y])\n",
    "print(\"Sum of elements greater than 5 is: \",np.sum(x[y]))"
   ]
  }
 ],
 "metadata": {
  "kernelspec": {
   "display_name": "Python 3 (ipykernel)",
   "language": "python",
   "name": "python3"
  },
  "language_info": {
   "codemirror_mode": {
    "name": "ipython",
    "version": 3
   },
   "file_extension": ".py",
   "mimetype": "text/x-python",
   "name": "python",
   "nbconvert_exporter": "python",
   "pygments_lexer": "ipython3",
   "version": "3.9.13"
  }
 },
 "nbformat": 4,
 "nbformat_minor": 5
}
